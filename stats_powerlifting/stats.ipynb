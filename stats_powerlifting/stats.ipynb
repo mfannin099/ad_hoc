{
 "cells": [
  {
   "cell_type": "code",
   "execution_count": 23,
   "id": "3fae1c60",
   "metadata": {},
   "outputs": [],
   "source": [
    "# !pip install matplotlib seaborn\n",
    "\n",
    "import pandas as pd\n",
    "import numpy as np\n",
    "import polars as pl\n",
    "import matplotlib.pyplot as plt\n",
    "import seaborn as sns"
   ]
  },
  {
   "cell_type": "code",
   "execution_count": 24,
   "id": "7b7f746c",
   "metadata": {},
   "outputs": [],
   "source": [
    "## import data\n",
    "## Basically 30 seconds to load\n",
    "# df = pd.read_csv('../data/openpowerlifting-latest/openpowerlifting-2025-05-03-c77c7449.csv')\n",
    "# print(len(df))\n",
    "# print(df.columns)\n",
    "# df.head(3)\n"
   ]
  },
  {
   "cell_type": "code",
   "execution_count": 25,
   "id": "a410730f",
   "metadata": {},
   "outputs": [
    {
     "name": "stdout",
     "output_type": "stream",
     "text": [
      "3596706\n",
      "['Name', 'Sex', 'Event', 'Equipment', 'Age', 'AgeClass', 'BirthYearClass', 'Division', 'BodyweightKg', 'WeightClassKg', 'Squat1Kg', 'Squat2Kg', 'Squat3Kg', 'Squat4Kg', 'Best3SquatKg', 'Bench1Kg', 'Bench2Kg', 'Bench3Kg', 'Bench4Kg', 'Best3BenchKg', 'Deadlift1Kg', 'Deadlift2Kg', 'Deadlift3Kg', 'Deadlift4Kg', 'Best3DeadliftKg', 'TotalKg', 'Place', 'Dots', 'Wilks', 'Glossbrenner', 'Goodlift', 'Tested', 'Country', 'State', 'Federation', 'ParentFederation', 'Date', 'MeetCountry', 'MeetState', 'MeetTown', 'MeetName', 'Sanctioned']\n",
      "shape: (2, 2)\n",
      "┌─────────┬───────┐\n",
      "│         ┆ count │\n",
      "│ ---     ┆ ---   │\n",
      "│ object  ┆ u32   │\n",
      "╞═════════╪═══════╡\n",
      "│ String  ┆ 20    │\n",
      "│ Float64 ┆ 22    │\n",
      "└─────────┴───────┘\n",
      "shape: (3, 42)\n",
      "┌────────────────┬─────┬───────┬───────────┬───┬───────────┬──────────┬───────────────┬────────────┐\n",
      "│ Name           ┆ Sex ┆ Event ┆ Equipment ┆ … ┆ MeetState ┆ MeetTown ┆ MeetName      ┆ Sanctioned │\n",
      "│ ---            ┆ --- ┆ ---   ┆ ---       ┆   ┆ ---       ┆ ---      ┆ ---           ┆ ---        │\n",
      "│ str            ┆ str ┆ str   ┆ str       ┆   ┆ str       ┆ str      ┆ str           ┆ str        │\n",
      "╞════════════════╪═════╪═══════╪═══════════╪═══╪═══════════╪══════════╪═══════════════╪════════════╡\n",
      "│ E.S. Denisenko ┆ F   ┆ B     ┆ Raw       ┆ … ┆ null      ┆ Luninets ┆ Bison Power   ┆ Yes        │\n",
      "│                ┆     ┆       ┆           ┆   ┆           ┆          ┆ Cup           ┆            │\n",
      "│ I.S.           ┆ F   ┆ B     ┆ Raw       ┆ … ┆ null      ┆ Luninets ┆ Bison Power   ┆ Yes        │\n",
      "│ Lebetskaya     ┆     ┆       ┆           ┆   ┆           ┆          ┆ Cup           ┆            │\n",
      "│ K. Yakimovich  ┆ F   ┆ B     ┆ Raw       ┆ … ┆ null      ┆ Luninets ┆ Bison Power   ┆ Yes        │\n",
      "│                ┆     ┆       ┆           ┆   ┆           ┆          ┆ Cup           ┆            │\n",
      "└────────────────┴─────┴───────┴───────────┴───┴───────────┴──────────┴───────────────┴────────────┘\n"
     ]
    }
   ],
   "source": [
    "## 2 seconds to load... will be using polars \n",
    "\n",
    "float_columns = [\n",
    "    'Squat1Kg', 'Squat2Kg', 'Squat3Kg', 'Squat4Kg',\n",
    "    'Bench1Kg', 'Bench2Kg', 'Bench3Kg', 'Bench4Kg',\n",
    "    'Deadlift1Kg', 'Deadlift2Kg', 'Deadlift3Kg', 'Deadlift4Kg',\n",
    "    # Add all your numeric columns here\n",
    "]\n",
    "\n",
    "schema_override = {col: pl.Float64 for col in float_columns}\n",
    "\n",
    "df = pl.read_csv(\n",
    "    '../data/openpowerlifting-latest/openpowerlifting-2025-05-03-c77c7449.csv',\n",
    "    schema_overrides=schema_override,\n",
    "    infer_schema_length=10000\n",
    ")\n",
    "\n",
    "print(df.height)\n",
    "print(df.columns)\n",
    "print(pl.Series(df.dtypes).value_counts())\n",
    "print(df.head(3))"
   ]
  },
  {
   "cell_type": "code",
   "execution_count": 26,
   "id": "e97b90a4",
   "metadata": {},
   "outputs": [
    {
     "data": {
      "text/html": [
       "<div><style>\n",
       ".dataframe > thead > tr,\n",
       ".dataframe > tbody > tr {\n",
       "  text-align: right;\n",
       "  white-space: pre-wrap;\n",
       "}\n",
       "</style>\n",
       "<small>shape: (9, 43)</small><table border=\"1\" class=\"dataframe\"><thead><tr><th>statistic</th><th>Name</th><th>Sex</th><th>Event</th><th>Equipment</th><th>Age</th><th>AgeClass</th><th>BirthYearClass</th><th>Division</th><th>BodyweightKg</th><th>WeightClassKg</th><th>Squat1Kg</th><th>Squat2Kg</th><th>Squat3Kg</th><th>Squat4Kg</th><th>Best3SquatKg</th><th>Bench1Kg</th><th>Bench2Kg</th><th>Bench3Kg</th><th>Bench4Kg</th><th>Best3BenchKg</th><th>Deadlift1Kg</th><th>Deadlift2Kg</th><th>Deadlift3Kg</th><th>Deadlift4Kg</th><th>Best3DeadliftKg</th><th>TotalKg</th><th>Place</th><th>Dots</th><th>Wilks</th><th>Glossbrenner</th><th>Goodlift</th><th>Tested</th><th>Country</th><th>State</th><th>Federation</th><th>ParentFederation</th><th>Date</th><th>MeetCountry</th><th>MeetState</th><th>MeetTown</th><th>MeetName</th><th>Sanctioned</th></tr><tr><td>str</td><td>str</td><td>str</td><td>str</td><td>str</td><td>f64</td><td>str</td><td>str</td><td>str</td><td>f64</td><td>str</td><td>f64</td><td>f64</td><td>f64</td><td>f64</td><td>f64</td><td>f64</td><td>f64</td><td>f64</td><td>f64</td><td>f64</td><td>f64</td><td>f64</td><td>f64</td><td>f64</td><td>f64</td><td>f64</td><td>str</td><td>f64</td><td>f64</td><td>f64</td><td>f64</td><td>str</td><td>str</td><td>str</td><td>str</td><td>str</td><td>str</td><td>str</td><td>str</td><td>str</td><td>str</td><td>str</td></tr></thead><tbody><tr><td>&quot;count&quot;</td><td>&quot;3596706&quot;</td><td>&quot;3596706&quot;</td><td>&quot;3596706&quot;</td><td>&quot;3596706&quot;</td><td>2.254871e6</td><td>&quot;2589472&quot;</td><td>&quot;2333299&quot;</td><td>&quot;3593429&quot;</td><td>3.55411e6</td><td>&quot;3545136&quot;</td><td>1.107033e6</td><td>1.096474e6</td><td>1.069205e6</td><td>9227.0</td><td>2.487992e6</td><td>1.639017e6</td><td>1.62126e6</td><td>1.573252e6</td><td>22585.0</td><td>3.18393e6</td><td>1.241942e6</td><td>1.221486e6</td><td>1.175918e6</td><td>25443.0</td><td>2.672772e6</td><td>3.351644e6</td><td>&quot;3596706&quot;</td><td>3.32589e6</td><td>3.32589e6</td><td>3.32589e6</td><td>3.047926e6</td><td>&quot;2717755&quot;</td><td>&quot;2011851&quot;</td><td>&quot;752722&quot;</td><td>&quot;3596706&quot;</td><td>&quot;2190375&quot;</td><td>&quot;3596706&quot;</td><td>&quot;3596706&quot;</td><td>&quot;2599207&quot;</td><td>&quot;3102498&quot;</td><td>&quot;3596706&quot;</td><td>&quot;3596706&quot;</td></tr><tr><td>&quot;null_count&quot;</td><td>&quot;0&quot;</td><td>&quot;0&quot;</td><td>&quot;0&quot;</td><td>&quot;0&quot;</td><td>1.341835e6</td><td>&quot;1007234&quot;</td><td>&quot;1263407&quot;</td><td>&quot;3277&quot;</td><td>42596.0</td><td>&quot;51570&quot;</td><td>2.489673e6</td><td>2.500232e6</td><td>2.527501e6</td><td>3.587479e6</td><td>1.108714e6</td><td>1.957689e6</td><td>1.975446e6</td><td>2.023454e6</td><td>3.574121e6</td><td>412776.0</td><td>2.354764e6</td><td>2.37522e6</td><td>2.420788e6</td><td>3.571263e6</td><td>923934.0</td><td>245062.0</td><td>&quot;0&quot;</td><td>270816.0</td><td>270816.0</td><td>270816.0</td><td>548780.0</td><td>&quot;878951&quot;</td><td>&quot;1584855&quot;</td><td>&quot;2843984&quot;</td><td>&quot;0&quot;</td><td>&quot;1406331&quot;</td><td>&quot;0&quot;</td><td>&quot;0&quot;</td><td>&quot;997499&quot;</td><td>&quot;494208&quot;</td><td>&quot;0&quot;</td><td>&quot;0&quot;</td></tr><tr><td>&quot;mean&quot;</td><td>null</td><td>null</td><td>null</td><td>null</td><td>30.605357</td><td>null</td><td>null</td><td>null</td><td>83.789043</td><td>null</td><td>116.713201</td><td>102.10562</td><td>43.7544</td><td>75.936934</td><td>171.512155</td><td>83.749439</td><td>58.836157</td><td>-12.901878</td><td>24.176163</td><td>115.279872</td><td>160.054678</td><td>135.779473</td><td>25.700086</td><td>78.901598</td><td>186.822902</td><td>379.448763</td><td>null</td><td>279.029542</td><td>277.907497</td><td>261.270269</td><td>64.164198</td><td>null</td><td>null</td><td>null</td><td>null</td><td>null</td><td>null</td><td>null</td><td>null</td><td>null</td><td>null</td><td>null</td></tr><tr><td>&quot;std&quot;</td><td>null</td><td>null</td><td>null</td><td>null</td><td>13.246084</td><td>null</td><td>null</td><td>null</td><td>22.715585</td><td>null</td><td>133.77509</td><td>157.423357</td><td>188.650621</td><td>179.147995</td><td>67.361832</td><td>95.150223</td><td>119.822064</td><td>136.648536</td><td>158.790879</td><td>52.894746</td><td>106.353126</td><td>153.026685</td><td>210.43361</td><td>186.150433</td><td>62.167608</td><td>201.417784</td><td>null</td><td>126.091424</td><td>125.561268</td><td>119.323984</td><td>16.370547</td><td>null</td><td>null</td><td>null</td><td>null</td><td>null</td><td>null</td><td>null</td><td>null</td><td>null</td><td>null</td><td>null</td></tr><tr><td>&quot;min&quot;</td><td>&quot;A A&quot;</td><td>&quot;F&quot;</td><td>&quot;B&quot;</td><td>&quot;Multi-ply&quot;</td><td>0.0</td><td>&quot;13-15&quot;</td><td>&quot;14-18&quot;</td><td>&quot;023&quot;</td><td>15.1</td><td>&quot;+&quot;</td><td>-555.0</td><td>-580.0</td><td>-600.5</td><td>-550.0</td><td>-508.02</td><td>-635.5</td><td>-635.5</td><td>-575.0</td><td>-515.0</td><td>-522.5</td><td>-500.0</td><td>-502.5</td><td>-587.5</td><td>-500.0</td><td>-410.0</td><td>1.0</td><td>&quot;1&quot;</td><td>0.68</td><td>0.67</td><td>0.64</td><td>0.5</td><td>&quot;Yes&quot;</td><td>&quot;Abkhazia&quot;</td><td>&quot;AB&quot;</td><td>&quot;365Strong&quot;</td><td>&quot;GPA&quot;</td><td>&quot;1964-09-05&quot;</td><td>&quot;Algeria&quot;</td><td>&quot;AB&quot;</td><td>&quot;A Coruña&quot;</td><td>&quot;015 Pennsylvania State Bench P…</td><td>&quot;No&quot;</td></tr><tr><td>&quot;25%&quot;</td><td>null</td><td>null</td><td>null</td><td>null</td><td>20.5</td><td>null</td><td>null</td><td>null</td><td>66.86</td><td>null</td><td>92.5</td><td>85.0</td><td>-147.5</td><td>-85.0</td><td>120.0</td><td>57.5</td><td>35.0</td><td>-130.0</td><td>-117.5</td><td>72.57</td><td>125.0</td><td>120.0</td><td>-200.0</td><td>-100.0</td><td>137.5</td><td>210.0</td><td>null</td><td>159.34</td><td>158.75</td><td>149.46</td><td>52.29</td><td>null</td><td>null</td><td>null</td><td>null</td><td>null</td><td>null</td><td>null</td><td>null</td><td>null</td><td>null</td><td>null</td></tr><tr><td>&quot;50%&quot;</td><td>null</td><td>null</td><td>null</td><td>null</td><td>27.0</td><td>null</td><td>null</td><td>null</td><td>81.65</td><td>null</td><td>145.0</td><td>147.5</td><td>120.0</td><td>130.0</td><td>165.56</td><td>100.0</td><td>95.0</td><td>-55.0</td><td>73.5</td><td>112.5</td><td>180.0</td><td>177.5</td><td>125.0</td><td>142.88</td><td>185.0</td><td>358.34</td><td>null</td><td>301.11</td><td>300.06</td><td>279.28</td><td>63.97</td><td>null</td><td>null</td><td>null</td><td>null</td><td>null</td><td>null</td><td>null</td><td>null</td><td>null</td><td>null</td><td>null</td></tr><tr><td>&quot;75%&quot;</td><td>null</td><td>null</td><td>null</td><td>null</td><td>38.0</td><td>null</td><td>null</td><td>null</td><td>98.4</td><td>null</td><td>197.5</td><td>202.5</td><td>192.5</td><td>195.0</td><td>215.0</td><td>140.0</td><td>140.0</td><td>115.0</td><td>150.0</td><td>149.69</td><td>220.0</td><td>230.0</td><td>207.5</td><td>205.0</td><td>231.33</td><td>532.5</td><td>null</td><td>372.76</td><td>371.05</td><td>350.75</td><td>75.58</td><td>null</td><td>null</td><td>null</td><td>null</td><td>null</td><td>null</td><td>null</td><td>null</td><td>null</td><td>null</td><td>null</td></tr><tr><td>&quot;max&quot;</td><td>&quot;𠮷田 瑞規&quot;</td><td>&quot;Mx&quot;</td><td>&quot;SD&quot;</td><td>&quot;Wraps&quot;</td><td>98.0</td><td>&quot;80-999&quot;</td><td>&quot;70-999&quot;</td><td>&quot;Юноши&quot;</td><td>300.0</td><td>&quot;99.7+&quot;</td><td>555.0</td><td>577.5</td><td>595.0</td><td>592.39</td><td>595.0</td><td>551.0</td><td>521.63</td><td>635.5</td><td>567.44</td><td>635.5</td><td>450.0</td><td>467.5</td><td>487.5</td><td>440.5</td><td>487.5</td><td>1407.5</td><td>&quot;NS&quot;</td><td>818.06</td><td>793.33</td><td>756.9</td><td>176.13</td><td>&quot;Yes&quot;</td><td>&quot;Zimbabwe&quot;</td><td>&quot;ZJ&quot;</td><td>&quot;XPS&quot;</td><td>&quot;XPC&quot;</td><td>&quot;2025-04-27&quot;</td><td>&quot;Yugoslavia&quot;</td><td>&quot;ZH&quot;</td><td>&quot;泉州市&quot;</td><td>&quot;量举俱乐部联赛 贵阳站&quot;</td><td>&quot;Yes&quot;</td></tr></tbody></table></div>"
      ],
      "text/plain": [
       "shape: (9, 43)\n",
       "┌────────────┬───────────┬─────────┬─────────┬───┬───────────┬──────────┬─────────────┬────────────┐\n",
       "│ statistic  ┆ Name      ┆ Sex     ┆ Event   ┆ … ┆ MeetState ┆ MeetTown ┆ MeetName    ┆ Sanctioned │\n",
       "│ ---        ┆ ---       ┆ ---     ┆ ---     ┆   ┆ ---       ┆ ---      ┆ ---         ┆ ---        │\n",
       "│ str        ┆ str       ┆ str     ┆ str     ┆   ┆ str       ┆ str      ┆ str         ┆ str        │\n",
       "╞════════════╪═══════════╪═════════╪═════════╪═══╪═══════════╪══════════╪═════════════╪════════════╡\n",
       "│ count      ┆ 3596706   ┆ 3596706 ┆ 3596706 ┆ … ┆ 2599207   ┆ 3102498  ┆ 3596706     ┆ 3596706    │\n",
       "│ null_count ┆ 0         ┆ 0       ┆ 0       ┆ … ┆ 997499    ┆ 494208   ┆ 0           ┆ 0          │\n",
       "│ mean       ┆ null      ┆ null    ┆ null    ┆ … ┆ null      ┆ null     ┆ null        ┆ null       │\n",
       "│ std        ┆ null      ┆ null    ┆ null    ┆ … ┆ null      ┆ null     ┆ null        ┆ null       │\n",
       "│ min        ┆ A A       ┆ F       ┆ B       ┆ … ┆ AB        ┆ A Coruña ┆ 015 Pennsyl ┆ No         │\n",
       "│            ┆           ┆         ┆         ┆   ┆           ┆          ┆ vania State ┆            │\n",
       "│            ┆           ┆         ┆         ┆   ┆           ┆          ┆ Bench P…    ┆            │\n",
       "│ 25%        ┆ null      ┆ null    ┆ null    ┆ … ┆ null      ┆ null     ┆ null        ┆ null       │\n",
       "│ 50%        ┆ null      ┆ null    ┆ null    ┆ … ┆ null      ┆ null     ┆ null        ┆ null       │\n",
       "│ 75%        ┆ null      ┆ null    ┆ null    ┆ … ┆ null      ┆ null     ┆ null        ┆ null       │\n",
       "│ max        ┆ 𠮷田 瑞規 ┆ Mx      ┆ SD      ┆ … ┆ ZH        ┆ 泉州市   ┆ 量举俱乐部  ┆ Yes        │\n",
       "│            ┆           ┆         ┆         ┆   ┆           ┆          ┆ 联赛 贵阳站 ┆            │\n",
       "└────────────┴───────────┴─────────┴─────────┴───┴───────────┴──────────┴─────────────┴────────────┘"
      ]
     },
     "execution_count": 26,
     "metadata": {},
     "output_type": "execute_result"
    }
   ],
   "source": [
    "df.describe()"
   ]
  },
  {
   "cell_type": "code",
   "execution_count": null,
   "id": "d50e3c7a",
   "metadata": {},
   "outputs": [],
   "source": []
  }
 ],
 "metadata": {
  "kernelspec": {
   "display_name": ".venv",
   "language": "python",
   "name": "python3"
  },
  "language_info": {
   "codemirror_mode": {
    "name": "ipython",
    "version": 3
   },
   "file_extension": ".py",
   "mimetype": "text/x-python",
   "name": "python",
   "nbconvert_exporter": "python",
   "pygments_lexer": "ipython3",
   "version": "3.13.2"
  }
 },
 "nbformat": 4,
 "nbformat_minor": 5
}
